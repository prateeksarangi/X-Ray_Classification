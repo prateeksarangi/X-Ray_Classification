{
 "cells": [
  {
   "cell_type": "markdown",
   "metadata": {},
   "source": [
    "# Chest X-Ray Normal(not pneumonia) and pneumonia disease imgage Classification"
   ]
  },
  {
   "cell_type": "code",
   "execution_count": 1,
   "metadata": {
    "_cell_guid": "b1076dfc-b9ad-4769-8c92-a6c4dae69d19",
    "_uuid": "8f2839f25d086af736a60e9eeb907d3b93b6e0e5"
   },
   "outputs": [],
   "source": [
    "# This Python 3 environment comes with many helpful analytics libraries installed\n",
    "# It is defined by the kaggle/python docker image: https://github.com/kaggle/docker-python\n",
    "# For example, here's several helpful packages to load in \n",
    "\n",
    "import os\n",
    "import numpy as np # linear algebra\n",
    "import pandas as pd # data processing, CSV file I/O (e.g. pd.read_csv)\n",
    "import random\n",
    "import cv2\n",
    "import matplotlib.pyplot as plt\n",
    "\n",
    "# Dl framwork - tensorflow, keras a backend \n",
    "import tensorflow as tf\n",
    "import tensorflow.keras.backend as K\n",
    "from tensorflow.keras.models import Model, Sequential\n",
    "from tensorflow.keras.layers import Input, Dense, Flatten, Dropout, BatchNormalization \n",
    "from tensorflow.keras.layers import Conv2D, SeparableConv2D, MaxPool2D, LeakyReLU, Activation\n",
    "from tensorflow.keras.optimizers import Adam\n",
    "from tensorflow.keras.preprocessing.image import ImageDataGenerator\n",
    "from tensorflow.keras.callbacks import ModelCheckpoint, ReduceLROnPlateau, EarlyStopping\n",
    "\n",
    "from os import listdir\n",
    "from os.path import isfile, join\n",
    "from PIL import Image\n",
    "import glob\n",
    "\n",
    "\n",
    "# Input data files are available in the \"../input/\" directory.\n",
    "# For example, running this (by clicking run or pressing Shift+Enter) will list all files under the input directory\n",
    "dir_name = '/Users/ashwini/Desktop'\n",
    "# for dirname, _, filenames in os.walk(dir_name):\n",
    "#     for filename in filenames:\n",
    "#         print(os.path.join(dirname, filename))\n",
    "    \n",
    "# Any results you write to the current directory are saved as output."
   ]
  },
  {
   "cell_type": "code",
   "execution_count": 2,
   "metadata": {},
   "outputs": [
    {
     "name": "stdout",
     "output_type": "stream",
     "text": [
      "Device mapping:\n",
      "/job:localhost/replica:0/task:0/device:XLA_CPU:0 -> device: XLA_CPU device\n",
      "\n"
     ]
    }
   ],
   "source": [
    "config = tf.compat.v1.ConfigProto( device_count = {'GPU': 1 , 'CPU': 56}, log_device_placement=True ) \n",
    "sess = tf.compat.v1.Session(config=config) "
   ]
  },
  {
   "cell_type": "markdown",
   "metadata": {},
   "source": [
    "The dataset respective to already classified category is divided into three sets: \n",
    "1. train set ,\n",
    "1. validation set and \n",
    "1. test set. "
   ]
  },
  {
   "cell_type": "code",
   "execution_count": 6,
   "metadata": {
    "_cell_guid": "79c7e3d0-c299-4dcb-8224-4455121ee9b0",
    "_uuid": "d629ff2d2480ee46fbb7e2d37f6b5fab8052498a"
   },
   "outputs": [],
   "source": [
    "# Input data file\n",
    "train_path = os.path.join(dir_name, 'chest-xray/chest_xray/train')\n",
    "train_normal_path = os.path.join(train_path, 'NORMAL')\n",
    "train_pneumonia_path = os.path.join(train_path, 'PNEUMONIA')\n",
    "\n",
    "val_path = os.path.join(dir_name, 'chest-xray/chest_xray/test')\n",
    "val_normal_path = os.path.join(val_path, 'NORMAL')\n",
    "val_pneumonia_path = os.path.join(val_path, 'PNEUMONIA')\n",
    "\n",
    "test_path = os.path.join(dir_name, 'chest-xray/chest_xray/test')\n",
    "test_normal_path = os.path.join(test_path, 'NORMAL')\n",
    "test_pneumonia_path = os.path.join(test_path, 'PNEUMONIA')"
   ]
  },
  {
   "cell_type": "code",
   "execution_count": 7,
   "metadata": {},
   "outputs": [],
   "source": [
    "# # Plot the Images:\n",
    "def plot_images(item_dir, n=6):\n",
    "    all_item_dir = os.listdir(item_dir)\n",
    "    item_files = [os.path.join(item_dir, file) for file in all_item_dir][:n]\n",
    "    \n",
    "    plt.figure(figsize=(35, 10))\n",
    "    for idx, img_path in enumerate(item_files):\n",
    "        plt.subplot(2, n, idx+1)\n",
    "        img = plt.imread(img_path)\n",
    "        plt.imshow(img, cmap='gray')\n",
    "        plt.axis('off')\n",
    "    \n",
    "    plt.tight_layout()"
   ]
  },
  {
   "cell_type": "code",
   "execution_count": 8,
   "metadata": {},
   "outputs": [
    {
     "ename": "FileNotFoundError",
     "evalue": "[Errno 2] No such file or directory: '/Users/ashwini/Desktop/chest-xray/chest_xray/train/NORMAL'",
     "output_type": "error",
     "traceback": [
      "\u001b[0;31m---------------------------------------------------------------------------\u001b[0m",
      "\u001b[0;31mFileNotFoundError\u001b[0m                         Traceback (most recent call last)",
      "\u001b[0;32m<ipython-input-8-5ad2706fc1ba>\u001b[0m in \u001b[0;36m<module>\u001b[0;34m\u001b[0m\n\u001b[0;32m----> 1\u001b[0;31m \u001b[0mplot_images\u001b[0m\u001b[0;34m(\u001b[0m\u001b[0mtrain_normal_path\u001b[0m\u001b[0;34m,\u001b[0m \u001b[0;36m5\u001b[0m\u001b[0;34m)\u001b[0m\u001b[0;34m\u001b[0m\u001b[0;34m\u001b[0m\u001b[0m\n\u001b[0m\u001b[1;32m      2\u001b[0m \u001b[0mplot_images\u001b[0m\u001b[0;34m(\u001b[0m\u001b[0mtrain_pneumonia_path\u001b[0m\u001b[0;34m,\u001b[0m \u001b[0;36m5\u001b[0m\u001b[0;34m)\u001b[0m\u001b[0;34m\u001b[0m\u001b[0;34m\u001b[0m\u001b[0m\n",
      "\u001b[0;32m<ipython-input-7-f191d5e09de7>\u001b[0m in \u001b[0;36mplot_images\u001b[0;34m(item_dir, n)\u001b[0m\n\u001b[1;32m      1\u001b[0m \u001b[0;31m# # Plot the Images:\u001b[0m\u001b[0;34m\u001b[0m\u001b[0;34m\u001b[0m\u001b[0;34m\u001b[0m\u001b[0m\n\u001b[1;32m      2\u001b[0m \u001b[0;32mdef\u001b[0m \u001b[0mplot_images\u001b[0m\u001b[0;34m(\u001b[0m\u001b[0mitem_dir\u001b[0m\u001b[0;34m,\u001b[0m \u001b[0mn\u001b[0m\u001b[0;34m=\u001b[0m\u001b[0;36m6\u001b[0m\u001b[0;34m)\u001b[0m\u001b[0;34m:\u001b[0m\u001b[0;34m\u001b[0m\u001b[0;34m\u001b[0m\u001b[0m\n\u001b[0;32m----> 3\u001b[0;31m     \u001b[0mall_item_dir\u001b[0m \u001b[0;34m=\u001b[0m \u001b[0mos\u001b[0m\u001b[0;34m.\u001b[0m\u001b[0mlistdir\u001b[0m\u001b[0;34m(\u001b[0m\u001b[0mitem_dir\u001b[0m\u001b[0;34m)\u001b[0m\u001b[0;34m\u001b[0m\u001b[0;34m\u001b[0m\u001b[0m\n\u001b[0m\u001b[1;32m      4\u001b[0m     \u001b[0mitem_files\u001b[0m \u001b[0;34m=\u001b[0m \u001b[0;34m[\u001b[0m\u001b[0mos\u001b[0m\u001b[0;34m.\u001b[0m\u001b[0mpath\u001b[0m\u001b[0;34m.\u001b[0m\u001b[0mjoin\u001b[0m\u001b[0;34m(\u001b[0m\u001b[0mitem_dir\u001b[0m\u001b[0;34m,\u001b[0m \u001b[0mfile\u001b[0m\u001b[0;34m)\u001b[0m \u001b[0;32mfor\u001b[0m \u001b[0mfile\u001b[0m \u001b[0;32min\u001b[0m \u001b[0mall_item_dir\u001b[0m\u001b[0;34m]\u001b[0m\u001b[0;34m[\u001b[0m\u001b[0;34m:\u001b[0m\u001b[0mn\u001b[0m\u001b[0;34m]\u001b[0m\u001b[0;34m\u001b[0m\u001b[0;34m\u001b[0m\u001b[0m\n\u001b[1;32m      5\u001b[0m \u001b[0;34m\u001b[0m\u001b[0m\n",
      "\u001b[0;31mFileNotFoundError\u001b[0m: [Errno 2] No such file or directory: '/Users/ashwini/Desktop/chest-xray/chest_xray/train/NORMAL'"
     ]
    }
   ],
   "source": [
    "plot_images(train_normal_path, 5)\n",
    "plot_images(train_pneumonia_path, 5)"
   ]
  },
  {
   "cell_type": "code",
   "execution_count": 6,
   "metadata": {},
   "outputs": [],
   "source": [
    "def Images_details_Print_data(data, path):\n",
    "    print(\" ====== Images in: \", path)    \n",
    "    for k, v in data.items():\n",
    "        print(\"%s:\\t%s\" % (k, v))\n",
    "\n",
    "def Images_details(path):\n",
    "    files = [f for f in glob.glob(path + \"**/*.*\", recursive=True)]\n",
    "    data = {}\n",
    "    data['images_count'] = len(files)\n",
    "    data['min_width'] = 10**100  # No image will be bigger than that\n",
    "    data['max_width'] = 0\n",
    "    data['min_height'] = 10**100  # No image will be bigger than that\n",
    "    data['max_height'] = 0\n",
    "\n",
    "\n",
    "    for f in files:\n",
    "        im = Image.open(f)\n",
    "        width, height = im.size\n",
    "        data['min_width'] = min(width, data['min_width'])\n",
    "        data['max_width'] = max(width, data['max_height'])\n",
    "        data['min_height'] = min(height, data['min_height'])\n",
    "        data['max_height'] = max(height, data['max_height'])\n",
    "\n",
    "    Images_details_Print_data(data, path)"
   ]
  },
  {
   "cell_type": "code",
   "execution_count": 7,
   "metadata": {},
   "outputs": [
    {
     "name": "stdout",
     "output_type": "stream",
     "text": [
      " ====== Images in:  /kaggle/input/chest-xray-pneumonia/chest_xray/train/NORMAL\n",
      "images_count:\t1341\n",
      "min_width:\t912\n",
      "max_width:\t2663\n",
      "min_height:\t672\n",
      "max_height:\t2663\n",
      " ====== Images in:  /kaggle/input/chest-xray-pneumonia/chest_xray/train/PNEUMONIA\n",
      "images_count:\t3875\n",
      "min_width:\t384\n",
      "max_width:\t2304\n",
      "min_height:\t127\n",
      "max_height:\t2304\n"
     ]
    }
   ],
   "source": [
    "Images_details(train_normal_path)\n",
    "Images_details(train_pneumonia_path)"
   ]
  },
  {
   "cell_type": "code",
   "execution_count": 8,
   "metadata": {},
   "outputs": [
    {
     "name": "stdout",
     "output_type": "stream",
     "text": [
      "train, Normal images: 1342, Pneumonia images: 3876\n",
      "test, Normal images: 234, Pneumonia images: 390\n",
      "val, Normal images: 9, Pneumonia images: 9\n"
     ]
    }
   ],
   "source": [
    "input_path = \"/kaggle/input/chest-xray-pneumonia/chest_xray/chest_xray/\"\n",
    "    \n",
    "for _set in ['train', 'test', 'val']:\n",
    "    nrml = len(os.listdir(input_path + _set + '/NORMAL'))\n",
    "    pnm = len(os.listdir(input_path + _set + '/PNEUMONIA'))\n",
    "    print('{}, Normal images: {}, Pneumonia images: {}'.format(_set, nrml, pnm))"
   ]
  },
  {
   "cell_type": "markdown",
   "metadata": {},
   "source": [
    "### Data Augmentation\n",
    "The practice of data augmentation is an effective way to increase the size of the training set.\n",
    "\n",
    "Augmenting the training examples allow the network to “see” more diversified, but still representative, data points during training.\n",
    "\n",
    "There's two data generators: one for training data, and the other for validation data. A data generator is capable of loading the required amount of data (a mini batch of images) directly from the source folder, convert them into training data (fed to the model) and training targets (a vector of attributes — the supervision signal)."
   ]
  },
  {
   "cell_type": "code",
   "execution_count": 9,
   "metadata": {},
   "outputs": [],
   "source": [
    "\n",
    "def process_data(img_dims, batch_size):\n",
    "    # Data generation objects - thorugh rescalling, veticle flip, zoom range\n",
    "    train_datagen = ImageDataGenerator(\n",
    "                        rescale = 1./255,\n",
    "                      # featurewise_center=True,\n",
    "                      # featurewise_std_normalization=True,\n",
    "                        zoom_range = 0.3,\n",
    "                        vertical_flip = True)\n",
    "    \n",
    "    test_datagen = ImageDataGenerator(\n",
    "                      #  featurewise_center=True,\n",
    "                      #  featurewise_std_normalization=True,\n",
    "                        rescale=1./255)\n",
    "    \n",
    "    # This is fed to the network in the specified batch sizes and image dimensions\n",
    "    train_gen = train_datagen.flow_from_directory(\n",
    "                                directory = train_path, \n",
    "                                target_size = (img_dims, img_dims), \n",
    "                                batch_size = batch_size, \n",
    "                                class_mode = 'binary', \n",
    "                                shuffle=True)\n",
    "\n",
    "    test_gen = test_datagen.flow_from_directory(\n",
    "                                directory=test_path, \n",
    "                                target_size=(img_dims, img_dims), \n",
    "                                batch_size=batch_size, \n",
    "                                class_mode='binary', \n",
    "                                shuffle=True)\n",
    "    \n",
    "    # Making predictions off of the test set in one batch size\n",
    "    # This is useful to be able to get the confusion matrix\n",
    "    test_data = []\n",
    "    test_labels = []\n",
    "\n",
    "    for cond in ['/NORMAL/', '/PNEUMONIA/']:\n",
    "        for img in (os.listdir(test_path + cond)):\n",
    "            img = plt.imread(test_path + cond + img)\n",
    "            img = cv2.resize(img, (img_dims, img_dims))\n",
    "            img = np.dstack([img, img, img])\n",
    "            img = img.astype('float32') / 255\n",
    "            if cond=='/NORMAL/':\n",
    "                label = 0\n",
    "            elif cond=='/PNEUMONIA/':\n",
    "                label = 1\n",
    "            test_data.append(img)\n",
    "            test_labels.append(label)\n",
    "        \n",
    "    test_data = np.array(test_data)\n",
    "    test_labels = np.array(test_labels)\n",
    "    \n",
    "    return train_gen, test_gen, test_data, test_labels"
   ]
  },
  {
   "cell_type": "code",
   "execution_count": 10,
   "metadata": {},
   "outputs": [
    {
     "name": "stdout",
     "output_type": "stream",
     "text": [
      "Found 5216 images belonging to 2 classes.\n",
      "Found 624 images belonging to 2 classes.\n"
     ]
    }
   ],
   "source": [
    "# Hyperparameters\n",
    "img_dims = 150\n",
    "epochs = 20\n",
    "batch_size = 32\n",
    "\n",
    "# Getting the data\n",
    "train_gen, test_gen, test_data, test_labels = process_data(img_dims, batch_size)"
   ]
  },
  {
   "cell_type": "markdown",
   "metadata": {},
   "source": [
    "## Model\n",
    "\n",
    "In this approach, I tried to trained the modal from scratch. The process I followed is - \n",
    "\n",
    "1. Selected a simple architecture.\n",
    "1. Initialized the layers from given training data with dims 150. \n",
    "1. Choose layers that introduce a lesser number of parameters. For example, [Depthwise SeparableConv](https://towardsdatascience.com/a-basic-introduction-to-separable-convolutions-b99ec3102728) is a good replacement for `Conv layer`. It introduces lesser number of parameters as compared to normal convolution and as different filters are applied to each channel, so it captures more information. \n",
    "1. Used batch norm with convolutions. As the network becomes deeper, batch norm start to play an important role.\n",
    "1. Added dense layers with reasonable amount of neurons. Trained with a higher learning rate and experiment with the number of neurons in the dense layers. Did it for the depth of your network too.\n",
    "1. Once a good depth, started training the network with a lower learning rate.\n",
    "\n",
    "Ref: https://towardsdatascience.com/a-basic-introduction-to-separable-convolutions-b99ec3102728"
   ]
  },
  {
   "cell_type": "code",
   "execution_count": 11,
   "metadata": {},
   "outputs": [],
   "source": [
    "inputs = Input(shape=(img_dims, img_dims, 3))\n",
    "\n",
    "# First conv block\n",
    "x = Conv2D(filters=16, kernel_size=(3, 3), activation='relu', padding='same')(inputs)\n",
    "x = Conv2D(filters=16, kernel_size=(3, 3), activation='relu', padding='same')(x)\n",
    "x = MaxPool2D(pool_size=(2, 2))(x)\n",
    "\n",
    "# Second conv block\n",
    "x = SeparableConv2D(filters=32, kernel_size=(3, 3), activation='relu', padding='same')(x)\n",
    "x = SeparableConv2D(filters=32, kernel_size=(3, 3), activation='relu', padding='same')(x)\n",
    "x = BatchNormalization()(x)\n",
    "x = MaxPool2D(pool_size=(2, 2))(x)\n",
    "\n",
    "# Third conv block\n",
    "x = SeparableConv2D(filters=64, kernel_size=(3, 3), activation='relu', padding='same')(x)\n",
    "x = SeparableConv2D(filters=64, kernel_size=(3, 3), activation='relu', padding='same')(x)\n",
    "x = BatchNormalization()(x)\n",
    "x = MaxPool2D(pool_size=(2, 2))(x)\n",
    "\n",
    "# Fourth conv block\n",
    "x = SeparableConv2D(filters=128, kernel_size=(3, 3), activation='relu', padding='same')(x)\n",
    "x = SeparableConv2D(filters=128, kernel_size=(3, 3), activation='relu', padding='same')(x)\n",
    "x = BatchNormalization()(x)\n",
    "x = MaxPool2D(pool_size=(2, 2))(x)\n",
    "x = Dropout(rate=0.2)(x)\n",
    "\n",
    "# Fifth conv block\n",
    "x = SeparableConv2D(filters=256, kernel_size=(3, 3), activation='relu', padding='same')(x)\n",
    "x = SeparableConv2D(filters=256, kernel_size=(3, 3), activation='relu', padding='same')(x)\n",
    "x = BatchNormalization()(x)\n",
    "x = MaxPool2D(pool_size=(2, 2))(x)\n",
    "x = Dropout(rate=0.2)(x)\n",
    "\n",
    "# FC layer\n",
    "x = Flatten()(x)\n",
    "x = Dense(units=512, activation='relu')(x)\n",
    "x = Dropout(rate=0.7)(x)\n",
    "x = Dense(units=128, activation='relu')(x)\n",
    "x = Dropout(rate=0.5)(x)\n",
    "x = Dense(units=64, activation='relu')(x)\n",
    "x = Dropout(rate=0.3)(x)\n",
    "\n",
    "# Output layer\n",
    "output = Dense(units=1, activation='sigmoid')(x)\n",
    "\n",
    "# Creating model and compiling\n",
    "model = Model(inputs=inputs, outputs=output)\n",
    "model.compile(optimizer='adam', loss='binary_crossentropy', metrics=['accuracy'])\n",
    "\n",
    "# Callbacks\n",
    "checkpoint = ModelCheckpoint(filepath='best_weights.hdf5', save_best_only=True, save_weights_only=True)\n",
    "lr_reduce = ReduceLROnPlateau(monitor='val_loss', factor=0.3, patience=2, verbose=2, mode='max')\n",
    "early_stop = EarlyStopping(monitor='val_loss', min_delta=0.1, patience=1, mode='min')"
   ]
  },
  {
   "cell_type": "code",
   "execution_count": 12,
   "metadata": {},
   "outputs": [
    {
     "name": "stdout",
     "output_type": "stream",
     "text": [
      "Model: \"model\"\n",
      "_________________________________________________________________\n",
      "Layer (type)                 Output Shape              Param #   \n",
      "=================================================================\n",
      "input_1 (InputLayer)         [(None, 150, 150, 3)]     0         \n",
      "_________________________________________________________________\n",
      "conv2d (Conv2D)              (None, 150, 150, 16)      448       \n",
      "_________________________________________________________________\n",
      "conv2d_1 (Conv2D)            (None, 150, 150, 16)      2320      \n",
      "_________________________________________________________________\n",
      "max_pooling2d (MaxPooling2D) (None, 75, 75, 16)        0         \n",
      "_________________________________________________________________\n",
      "separable_conv2d (SeparableC (None, 75, 75, 32)        688       \n",
      "_________________________________________________________________\n",
      "separable_conv2d_1 (Separabl (None, 75, 75, 32)        1344      \n",
      "_________________________________________________________________\n",
      "batch_normalization (BatchNo (None, 75, 75, 32)        128       \n",
      "_________________________________________________________________\n",
      "max_pooling2d_1 (MaxPooling2 (None, 37, 37, 32)        0         \n",
      "_________________________________________________________________\n",
      "separable_conv2d_2 (Separabl (None, 37, 37, 64)        2400      \n",
      "_________________________________________________________________\n",
      "separable_conv2d_3 (Separabl (None, 37, 37, 64)        4736      \n",
      "_________________________________________________________________\n",
      "batch_normalization_1 (Batch (None, 37, 37, 64)        256       \n",
      "_________________________________________________________________\n",
      "max_pooling2d_2 (MaxPooling2 (None, 18, 18, 64)        0         \n",
      "_________________________________________________________________\n",
      "separable_conv2d_4 (Separabl (None, 18, 18, 128)       8896      \n",
      "_________________________________________________________________\n",
      "separable_conv2d_5 (Separabl (None, 18, 18, 128)       17664     \n",
      "_________________________________________________________________\n",
      "batch_normalization_2 (Batch (None, 18, 18, 128)       512       \n",
      "_________________________________________________________________\n",
      "max_pooling2d_3 (MaxPooling2 (None, 9, 9, 128)         0         \n",
      "_________________________________________________________________\n",
      "dropout (Dropout)            (None, 9, 9, 128)         0         \n",
      "_________________________________________________________________\n",
      "separable_conv2d_6 (Separabl (None, 9, 9, 256)         34176     \n",
      "_________________________________________________________________\n",
      "separable_conv2d_7 (Separabl (None, 9, 9, 256)         68096     \n",
      "_________________________________________________________________\n",
      "batch_normalization_3 (Batch (None, 9, 9, 256)         1024      \n",
      "_________________________________________________________________\n",
      "max_pooling2d_4 (MaxPooling2 (None, 4, 4, 256)         0         \n",
      "_________________________________________________________________\n",
      "dropout_1 (Dropout)          (None, 4, 4, 256)         0         \n",
      "_________________________________________________________________\n",
      "flatten (Flatten)            (None, 4096)              0         \n",
      "_________________________________________________________________\n",
      "dense (Dense)                (None, 512)               2097664   \n",
      "_________________________________________________________________\n",
      "dropout_2 (Dropout)          (None, 512)               0         \n",
      "_________________________________________________________________\n",
      "dense_1 (Dense)              (None, 128)               65664     \n",
      "_________________________________________________________________\n",
      "dropout_3 (Dropout)          (None, 128)               0         \n",
      "_________________________________________________________________\n",
      "dense_2 (Dense)              (None, 64)                8256      \n",
      "_________________________________________________________________\n",
      "dropout_4 (Dropout)          (None, 64)                0         \n",
      "_________________________________________________________________\n",
      "dense_3 (Dense)              (None, 1)                 65        \n",
      "=================================================================\n",
      "Total params: 2,314,337\n",
      "Trainable params: 2,313,377\n",
      "Non-trainable params: 960\n",
      "_________________________________________________________________\n"
     ]
    }
   ],
   "source": [
    "model.summary()"
   ]
  },
  {
   "cell_type": "code",
   "execution_count": 13,
   "metadata": {},
   "outputs": [
    {
     "name": "stdout",
     "output_type": "stream",
     "text": [
      "Train for 163 steps, validate for 19 steps\n",
      "Epoch 1/20\n",
      "163/163 [==============================] - 104s 637ms/step - loss: 0.3726 - accuracy: 0.8294 - val_loss: 0.7103 - val_accuracy: 0.6234\n",
      "Epoch 2/20\n",
      "163/163 [==============================] - 98s 601ms/step - loss: 0.2694 - accuracy: 0.8942 - val_loss: 0.8314 - val_accuracy: 0.6234\n",
      "Epoch 3/20\n",
      "163/163 [==============================] - 100s 613ms/step - loss: 0.2403 - accuracy: 0.9099 - val_loss: 1.5699 - val_accuracy: 0.6234\n",
      "Epoch 4/20\n",
      "163/163 [==============================] - 99s 606ms/step - loss: 0.2261 - accuracy: 0.9080 - val_loss: 0.6317 - val_accuracy: 0.6266\n",
      "Epoch 5/20\n",
      "163/163 [==============================] - 98s 601ms/step - loss: 0.1977 - accuracy: 0.9239 - val_loss: 3.5893 - val_accuracy: 0.6234\n",
      "Epoch 6/20\n",
      "163/163 [==============================] - 99s 606ms/step - loss: 0.1929 - accuracy: 0.9245 - val_loss: 0.3693 - val_accuracy: 0.8438\n",
      "Epoch 7/20\n",
      "162/163 [============================>.] - ETA: 0s - loss: 0.1840 - accuracy: 0.9338\n",
      "Epoch 00007: ReduceLROnPlateau reducing learning rate to 0.0003000000142492354.\n",
      "163/163 [==============================] - 100s 611ms/step - loss: 0.1834 - accuracy: 0.9342 - val_loss: 0.4877 - val_accuracy: 0.7303\n",
      "Epoch 8/20\n",
      "163/163 [==============================] - 101s 621ms/step - loss: 0.1483 - accuracy: 0.9457 - val_loss: 0.2699 - val_accuracy: 0.8964\n",
      "Epoch 9/20\n",
      "162/163 [============================>.] - ETA: 0s - loss: 0.1402 - accuracy: 0.9464\n",
      "Epoch 00009: ReduceLROnPlateau reducing learning rate to 9.000000427477062e-05.\n",
      "163/163 [==============================] - 100s 614ms/step - loss: 0.1396 - accuracy: 0.9467 - val_loss: 0.3208 - val_accuracy: 0.8931\n",
      "Epoch 10/20\n",
      "163/163 [==============================] - 98s 602ms/step - loss: 0.1306 - accuracy: 0.9528 - val_loss: 0.2968 - val_accuracy: 0.9046\n",
      "Epoch 11/20\n",
      "162/163 [============================>.] - ETA: 0s - loss: 0.1270 - accuracy: 0.9537\n",
      "Epoch 00011: ReduceLROnPlateau reducing learning rate to 2.700000040931627e-05.\n",
      "163/163 [==============================] - 99s 608ms/step - loss: 0.1268 - accuracy: 0.9538 - val_loss: 0.4845 - val_accuracy: 0.8322\n",
      "Epoch 12/20\n",
      "163/163 [==============================] - 99s 610ms/step - loss: 0.1264 - accuracy: 0.9563 - val_loss: 0.2881 - val_accuracy: 0.9095\n",
      "Epoch 13/20\n",
      "162/163 [============================>.] - ETA: 0s - loss: 0.1165 - accuracy: 0.9572\n",
      "Epoch 00013: ReduceLROnPlateau reducing learning rate to 8.100000013655517e-06.\n",
      "163/163 [==============================] - 98s 601ms/step - loss: 0.1167 - accuracy: 0.9569 - val_loss: 0.2824 - val_accuracy: 0.9112\n",
      "Epoch 14/20\n",
      "163/163 [==============================] - 99s 607ms/step - loss: 0.1302 - accuracy: 0.9567 - val_loss: 0.2520 - val_accuracy: 0.9178\n",
      "Epoch 15/20\n",
      "162/163 [============================>.] - ETA: 0s - loss: 0.1190 - accuracy: 0.9566\n",
      "Epoch 00015: ReduceLROnPlateau reducing learning rate to 2.429999949526973e-06.\n",
      "163/163 [==============================] - 100s 612ms/step - loss: 0.1185 - accuracy: 0.9569 - val_loss: 0.2445 - val_accuracy: 0.9178\n",
      "Epoch 16/20\n",
      "163/163 [==============================] - 99s 608ms/step - loss: 0.1234 - accuracy: 0.9542 - val_loss: 0.2471 - val_accuracy: 0.9178\n",
      "Epoch 17/20\n",
      "162/163 [============================>.] - ETA: 0s - loss: 0.1211 - accuracy: 0.9558\n",
      "Epoch 00017: ReduceLROnPlateau reducing learning rate to 7.289999985005124e-07.\n",
      "163/163 [==============================] - 98s 601ms/step - loss: 0.1210 - accuracy: 0.9559 - val_loss: 0.2465 - val_accuracy: 0.9194\n",
      "Epoch 18/20\n",
      "163/163 [==============================] - 99s 608ms/step - loss: 0.1247 - accuracy: 0.9584 - val_loss: 0.2471 - val_accuracy: 0.9194\n",
      "Epoch 19/20\n",
      "162/163 [============================>.] - ETA: 0s - loss: 0.1146 - accuracy: 0.9579\n",
      "Epoch 00019: ReduceLROnPlateau reducing learning rate to 2.1870000637136398e-07.\n",
      "163/163 [==============================] - 98s 604ms/step - loss: 0.1151 - accuracy: 0.9572 - val_loss: 0.2474 - val_accuracy: 0.9178\n",
      "Epoch 20/20\n",
      "163/163 [==============================] - 99s 605ms/step - loss: 0.1163 - accuracy: 0.9597 - val_loss: 0.2441 - val_accuracy: 0.9178\n"
     ]
    }
   ],
   "source": [
    "#### Fitting the model\n",
    "history = model.fit_generator(\n",
    "           train_gen, steps_per_epoch=train_gen.samples // batch_size, \n",
    "           epochs=epochs, \n",
    "           validation_data=test_gen, \n",
    "           validation_steps=test_gen.samples // batch_size,\n",
    "           callbacks=[checkpoint, lr_reduce])"
   ]
  },
  {
   "cell_type": "code",
   "execution_count": 14,
   "metadata": {},
   "outputs": [
    {
     "data": {
      "image/png": "[encoded data removed]",
      "text/plain": [
       "<Figure size 432x288 with 1 Axes>"
      ]
     },
     "metadata": {
      "needs_background": "light"
     },
     "output_type": "display_data"
    },
    {
     "data": {
      "image/png": "[encoded data removed]",
      "text/plain": [
       "<Figure size 432x288 with 1 Axes>"
      ]
     },
     "metadata": {
      "needs_background": "light"
     },
     "output_type": "display_data"
    }
   ],
   "source": [
    "# Plot training & validation accuracy values\n",
    "plt.plot(history.history['accuracy'])\n",
    "plt.plot(history.history['val_accuracy'])\n",
    "plt.title('Model accuracy')\n",
    "plt.ylabel('Accuracy')\n",
    "plt.xlabel('Epoch')\n",
    "plt.legend(['Train', 'Test'], loc='upper left')\n",
    "plt.show()\n",
    "\n",
    "# Plot training & validation loss values\n",
    "plt.plot(history.history['loss'])\n",
    "plt.plot(history.history['val_loss'])\n",
    "plt.title('Model loss')\n",
    "plt.ylabel('Loss')\n",
    "plt.xlabel('Epoch')\n",
    "plt.legend(['Train', 'Test'], loc='upper left')\n",
    "plt.show()"
   ]
  },
  {
   "cell_type": "code",
   "execution_count": 15,
   "metadata": {},
   "outputs": [
    {
     "data": {
      "image/png": "[encoded data removed]",
      "text/plain": [
       "<Figure size 432x288 with 1 Axes>"
      ]
     },
     "metadata": {
      "needs_background": "light"
     },
     "output_type": "display_data"
    },
    {
     "data": {
      "image/png": "[encoded data removed]",
      "text/plain": [
       "<Figure size 864x576 with 1 Axes>"
      ]
     },
     "metadata": {
      "needs_background": "light"
     },
     "output_type": "display_data"
    }
   ],
   "source": [
    "# confution matrix\n",
    "from sklearn.metrics import accuracy_score, confusion_matrix\n",
    "from mlxtend.plotting import plot_confusion_matrix\n",
    "\n",
    "preds = model.predict(test_data)\n",
    "\n",
    "accuracy = accuracy_score(test_labels, np.round(preds))*100\n",
    "conf_mat = confusion_matrix(test_labels, np.round(preds))\n",
    "true_negative, false_postive, false_negative, true_posiitve = conf_mat.ravel()\n",
    "\n",
    "plot_confusion_matrix(conf_mat,figsize=(12,8), hide_ticks=True,cmap=plt.cm.Blues)\n",
    "plt.xticks(range(2), ['Normal', 'Pneumonia'], fontsize=16)\n",
    "plt.yticks(range(2), ['Normal', 'Pneumonia'], fontsize=16)\n",
    "plt.show()"
   ]
  },
  {
   "cell_type": "code",
   "execution_count": 16,
   "metadata": {},
   "outputs": [
    {
     "name": "stdout",
     "output_type": "stream",
     "text": [
      "\n",
      " --------------------  TEST METRICS --------------------\n",
      "\tAccuracy: 91.82692307692307%\n",
      "\tPrecision: 89.88235294117646%\n",
      "\tRecall: 97.94871794871794%\n",
      "\tF1-score: 93.74233128834354\n"
     ]
    }
   ],
   "source": [
    "print('\\n','-'*20,' TEST METRICS', '-'*20)\n",
    "precision = true_posiitve / (true_posiitve + false_postive) * 100\n",
    "recall = true_posiitve / (true_posiitve + false_negative) * 100\n",
    "print('\\tAccuracy: {}%'.format(accuracy))\n",
    "print('\\tPrecision: {}%'.format(precision))\n",
    "print('\\tRecall: {}%'.format(recall))\n",
    "print('\\tF1-score: {}'.format(2*precision*recall/(precision+recall)))"
   ]
  },
  {
   "cell_type": "code",
   "execution_count": 17,
   "metadata": {},
   "outputs": [],
   "source": [
    "# Save the model\n",
    "model.save('xray-pneumona-depthwise-convolution.h5')"
   ]
  },
  {
   "cell_type": "markdown",
   "metadata": {},
   "source": [
    "The model is converging which can be observed from the decrease in loss and validation loss with epochs. Also it is able to reach over 90% validation accuracy in just 20 epochs, which is good.\n",
    "\n",
    "The classes are imbalanced therefore validation accuracy won't be a good metric to analyze the model performance. The other metric, recall, precison and confusion matrix is good alternative to see the performance of the model. In this model, we got almost 98% recall value and 90% precison which is pretty good.\n",
    "\n",
    "Also, here recall is most significant quantity even more than accuracy and precision because in this dataset we have to minimize the false negative as low as possible\n",
    "\n",
    "False negative has to be intuitively minimized because falsely diagnosing a patient of pneumonia as not having a pneumonia is a much larger deal than falsely diagnosing a healthy person as a pneumonia patient which is our major concern . That is why we are making this model. To reduce the mistakes done by doctors accidentally. "
   ]
  },
  {
   "cell_type": "code",
   "execution_count": null,
   "metadata": {},
   "outputs": [],
   "source": []
  }
 ],
 "metadata": {
  "kernelspec": {
   "display_name": "Python 3",
   "language": "python",
   "name": "python3"
  },
  "language_info": {
   "codemirror_mode": {
    "name": "ipython",
    "version": 3
   },
   "file_extension": ".py",
   "mimetype": "text/x-python",
   "name": "python",
   "nbconvert_exporter": "python",
   "pygments_lexer": "ipython3",
   "version": "3.7.4"
  }
 },
 "nbformat": 4,
 "nbformat_minor": 1
}
